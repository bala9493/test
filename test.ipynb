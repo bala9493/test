{
 "cells": [
  {
   "cell_type": "code",
   "execution_count": null,
   "id": "6b0bb554",
   "metadata": {},
   "outputs": [],
   "source": [
    "from bs4 import BeautifulSoup\n",
    "from urllib.request import Request, urlopen\n",
    "import re\n",
    "import pandas as pd\n",
    "import numpy as np\n",
    "pd.options.mode.chained_assignment = None\n",
    "from tqdm import tqdm_notebook as tqdm\n",
    "import time\n",
    "from IPython.display import clear_output\n",
    "import warnings\n",
    "warnings.filterwarnings('ignore')"
   ]
  },
  {
   "cell_type": "code",
   "execution_count": null,
   "id": "bd95e32a",
   "metadata": {},
   "outputs": [],
   "source": [
    "def ceo():\n",
    "    url = str('https://browsejjeds.jnj.com/SearchRoute.do?f=64172163061461&stp=a&sb=12&st=0&cc=0000076065')\n",
    "    df = pd.read_html(url)\n",
    "    we=df[0]\n",
    "    xe=we[['WWID','Title']]\n",
    "    xe=xe[xe['Title']=='Chairman/CEO']\n",
    "    er=str(xe['WWID']).split(' ')[4].split('\\n')[0]\n",
    "    return er\n",
    "er=ceo()"
   ]
  },
  {
   "cell_type": "code",
   "execution_count": null,
   "id": "1d1ccabc",
   "metadata": {},
   "outputs": [],
   "source": [
    "def cleanString(string):\n",
    "    cleaner = re.compile('<.*?>')\n",
    "    cleanedString = re.sub(cleaner, '', str(string)).replace('\\n', '').replace('\\t', '').replace('\\r', '').replace('[', '').replace(']', '').replace('\\xa0', ' ').replace('amp;', '').strip()\n",
    "    return cleanedString"
   ]
  },
  {
   "cell_type": "code",
   "execution_count": null,
   "id": "b09c186b",
   "metadata": {},
   "outputs": [],
   "source": [
    "def getSoup(wwid):\n",
    "    baseURLPart1 = 'https://browsejjeds.jnj.com/detail.jsp?detail=more&u='\n",
    "    baseURLPart2 = '&st=01234'\n",
    "    url = baseURLPart1 + wwid + baseURLPart2\n",
    "    header = {'User-Agent': 'Mozilla/5.0'}\n",
    "    request = Request(url, headers=header)\n",
    "    webPage = urlopen(request)\n",
    "    soup = BeautifulSoup(webPage)\n",
    "    return soup"
   ]
  },
  {
   "cell_type": "code",
   "execution_count": null,
   "id": "13c14db8",
   "metadata": {},
   "outputs": [],
   "source": [
    "def getEmployeeData(supervisorURL, level):\n",
    "    global jnjEmployeeDataset\n",
    "    employeeSoup = getSoup(supervisorURL.split('|')[0]).find('table')\n",
    "    supervisorWWID = supervisorURL.split('|')[1]\n",
    "    currentWWID = supervisorURL.split('&o=')[0]\n",
    "    if employeeSoup.has_attr('class'):\n",
    "        if employeeSoup['class'][0] == 'objectDetail':\n",
    "            employeeDictionary = {}\n",
    "            reporteeList = []\n",
    "            for tableRow in employeeSoup.findAll('tr'):\n",
    "                attributeLabel = tableRow.find('td', {'class':'label'}).text\n",
    "                if attributeLabel != 'Direct Reports' and attributeLabel != 'Delegates' and attributeLabel != 'Sponsored Partners':\n",
    "                    employeeDictionary[attributeLabel] = tableRow.find('td', {'class':'attribute'}).text\n",
    "                elif attributeLabel == 'Direct Reports' or attributeLabel == 'Sponsored Partners':\n",
    "                    try:\n",
    "                        for directReportee in tableRow.find('select').findAll('option'):\n",
    "                            reporteeURL = directReportee['value'].split('?detail=less&u=')\n",
    "                            if len(reporteeURL) > 1:\n",
    "                                finalReporteeURL = reporteeURL[1].split('&st=01234')[0]\n",
    "                                reporteeWWID = finalReporteeURL.split('&o=')[0]\n",
    "                                if reporteeWWID != supervisorWWID:\n",
    "                                    reporteeList.append(finalReporteeURL + '|' + currentWWID)\n",
    "                    except AttributeError:\n",
    "                        reporteeURL = tableRow.findAll('a')[-1]['href'].split('?detail=less&u=')[1].split('&st=01234')[0]\n",
    "                        reporteeWWID = reporteeURL.split('&o=')[0]\n",
    "                        reporteeList.append(reporteeURL + '|' + currentWWID)\n",
    "            employeeDictionary['Supervisor WWID'] = supervisorWWID\n",
    "            employeeDictionary['Level'] = level\n",
    "            jnjEmployeeDataset = jnjEmployeeDataset.append(employeeDictionary, ignore_index=True, sort=False)\n",
    "            return reporteeList\n",
    "        elif employeeSoup['class'][0] == 'errortable':\n",
    "            print('The searched employee does not exist!')\n",
    "            print(supervisorWWID)\n",
    "            return []\n",
    "        else:\n",
    "            print('Unknown error!')\n",
    "            return []"
   ]
  },
  {
   "cell_type": "code",
   "execution_count": null,
   "id": "0e111544",
   "metadata": {},
   "outputs": [],
   "source": [
    "levelLimit = 4\n",
    "retryInterval = 900\n",
    "supervisorList = [er+'&o=employees|'+er]\n",
    "\n",
    "#22500016\n",
    "# supervisorList = supervisorList[20548:]\n",
    "\n",
    "jnjEmployeeDataset = pd.DataFrame()\n",
    "\n",
    "for level in range(0, levelLimit, 1):\n",
    "    nextSupervisorList = []\n",
    "    print('\\rFetching C-' + str(level) + ' Employees... \\t\\t', end='')\n",
    "    for supervisor in tqdm(supervisorList, leave=False):\n",
    "        try:\n",
    "            nextSupervisorList = nextSupervisorList + getEmployeeData(supervisor, level)\n",
    "        except Exception as error:\n",
    "            print(Exception)\n",
    "#             for secondCounter in range(retryInterval, 0, -60):\n",
    "#                 print('\\rRetrying in', int(secondCounter/60), 'minute(s) \\t\\t', end='')\n",
    "#                 time.sleep(60)\n",
    "#             nextSupervisorList = nextSupervisorList + getEmployeeData(supervisor, level)\n",
    "    supervisorList = nextSupervisorList\n",
    "    clear_output()"
   ]
  },
  {
   "cell_type": "code",
   "execution_count": null,
   "id": "86248c4e",
   "metadata": {},
   "outputs": [],
   "source": [
    "jnjEmployeeDataset.loc[jnjEmployeeDataset['Formatted Name'].isna(), 'Formatted Name'] = jnjEmployeeDataset['Common Name']"
   ]
  },
  {
   "cell_type": "code",
   "execution_count": null,
   "id": "4c0634d0",
   "metadata": {},
   "outputs": [],
   "source": [
    "jnjEmployeeDataset.to_excel('J&J Org Data (C-8 Levels).xlsx', index=False)"
   ]
  }
 ],
 "metadata": {
  "kernelspec": {
   "display_name": "Python 3 (ipykernel)",
   "language": "python",
   "name": "python3"
  },
  "language_info": {
   "codemirror_mode": {
    "name": "ipython",
    "version": 3
   },
   "file_extension": ".py",
   "mimetype": "text/x-python",
   "name": "python",
   "nbconvert_exporter": "python",
   "pygments_lexer": "ipython3",
   "version": "3.9.12"
  }
 },
 "nbformat": 4,
 "nbformat_minor": 5
}
