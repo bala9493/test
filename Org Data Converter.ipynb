{
 "cells": [
  {
   "cell_type": "code",
   "execution_count": 1,
   "metadata": {},
   "outputs": [],
   "source": [
    "################################################################################################################################\n",
    "######################################## PART I: Transforming Data Into Level Files ############################################\n",
    "################################################################################################################################"
   ]
  },
  {
   "cell_type": "code",
   "execution_count": 2,
   "metadata": {},
   "outputs": [],
   "source": [
    "# Libraries to manipulate DataFrames\n",
    "import pandas as pd\n",
    "\n",
    "# Library which contains some useful functions\n",
    "import numpy as np\n",
    "\n",
    "# To hide useless warnings\n",
    "import warnings\n",
    "warnings.filterwarnings('ignore')\n",
    "\n",
    "from IPython.display import display, HTML"
   ]
  },
  {
   "cell_type": "code",
   "execution_count": 3,
   "metadata": {},
   "outputs": [],
   "source": [
    "# Read org data\n",
    "jnjOrgData = pd.read_excel('J&J Org Data (Aug 2021, C-7 Levels, With Notes).xlsx', encoding='latin-1')\n",
    "jnjOrgData['WWID'] = jnjOrgData['WWID'].astype(int).astype(str)\n",
    "jnjOrgData['Supervisor WWID'] = jnjOrgData['Supervisor WWID'].astype(int).astype(str)\n",
    "jnjOrgData.fillna('', inplace=True)"
   ]
  },
  {
   "cell_type": "code",
   "execution_count": 4,
   "metadata": {},
   "outputs": [
    {
     "name": "stdout",
     "output_type": "stream",
     "text": [
      "Processed Level 1 data\n",
      "\n",
      "Processed Level 2 data\n",
      "\n",
      "Processed Level 3 data\n",
      "\n",
      "Processed Level 4 data\n",
      "\n",
      "Processed Level 5 data\n",
      "\n",
      "Processed Level 6 data\n",
      "\n",
      "Processed Level 7 data\n",
      "\n",
      "Processed Level 8 data\n",
      "\n"
     ]
    }
   ],
   "source": [
    "# Create a list of dataframes for each level dataframe to be appended to\n",
    "dataframeList = []\n",
    "\n",
    "# fetch ID which got assigned to Corbat, Michael L\n",
    "ceoWWID = jnjOrgData[jnjOrgData['Employee Name'].str.contains('Gorsky')]['WWID'].iloc[0]\n",
    "\n",
    "# Initialize a counter to keep track of levels\n",
    "currentLevelCounter = 0\n",
    "\n",
    "# Creating a separate dataframe and level file for CEO with all his details\n",
    "# This \"Level 0\" file will be different from other level files in regard that CEO would have no supervisor\n",
    "levelZeroDataframe = pd.DataFrame()\n",
    "ceoName = jnjOrgData[jnjOrgData['Employee Name'].str.contains('Gorsky')]['Employee Name'].iloc[0]\n",
    "ceoEmail = jnjOrgData[jnjOrgData['WWID'] == ceoWWID]['Email Address'].iloc[0]\n",
    "ceoPhone = jnjOrgData[jnjOrgData['WWID'] == ceoWWID]['Business Telephone'].iloc[0]\n",
    "ceoTitle = jnjOrgData[jnjOrgData['WWID'] == ceoWWID]['Title'].iloc[0]\n",
    "ceoAddress = jnjOrgData[jnjOrgData['WWID'] == ceoWWID]['Business Address'].iloc[0]\n",
    "ceoDepartment = jnjOrgData[jnjOrgData['WWID'] == ceoWWID]['Department'].iloc[0]\n",
    "\n",
    "levelZeroDataframe = levelZeroDataframe.append({'WWID':ceoWWID, \n",
    "                                                'Email Address':ceoEmail, \n",
    "                                                'Business Telephone':ceoPhone, \n",
    "                                                'Title':ceoTitle, \n",
    "                                                'Business Address':ceoAddress, \n",
    "                                                'Employee Name':ceoName, \n",
    "                                                'Department':ceoDepartment,\n",
    "                                                'Company Name':ceoDepartment,\n",
    "                                                'Partner Company Name':np.nan}, ignore_index=True)\n",
    "        \n",
    "# Write out CEO level file\n",
    "levelZeroDataframe.to_excel('Level 0.xlsx', index=False)\n",
    "\n",
    "# Append Level 0 dataframe to dataframe list\n",
    "dataframeList.append(levelZeroDataframe.fillna(''))\n",
    "\n",
    "# Remove row corresponding to CEO as CEO has no supervisor and can cause errors in the following code \n",
    "jnjOrgData.drop(jnjOrgData[jnjOrgData['WWID'] == ceoWWID].index, inplace=True)\n",
    "\n",
    "# Create a function to process data level by level\n",
    "def parseOrgData(supervisorList):\n",
    "    global currentLevelCounter\n",
    "    \n",
    "    # Incrementing level counter as each level is processed\n",
    "    currentLevelCounter = currentLevelCounter + 1\n",
    "    \n",
    "    # Get data of all those employees which report to supervisors present at a level\n",
    "    # For example this dataframe would contain data of Level 3 employees would who be reporting to Level 2 supervisors\n",
    "    currentLevelDataFrame = jnjOrgData[jnjOrgData['Supervisor WWID'].isin(supervisorList)]\n",
    "        \n",
    "    # If at least one reportee is found for any of the supervisors sitting at a given level\n",
    "    if currentLevelDataFrame.shape[0] > 0:\n",
    "        \n",
    "        # Reordering columns\n",
    "        currentLevelDataFrame = currentLevelDataFrame[['Supervisor WWID', \n",
    "                                                       'Employee Name',\n",
    "                                                       'WWID', \n",
    "                                                       'Email Address', \n",
    "                                                       'Business Telephone',\n",
    "                                                       'Title', \n",
    "                                                       'Business Address', \n",
    "                                                       'Department', \n",
    "                                                       'Company Name', \n",
    "                                                       'Partner Company Name']]\n",
    "        \n",
    "        # Writing out data file corresponding to current level\n",
    "        currentLevelDataFrame.to_excel('Level ' + str(currentLevelCounter) + '.xlsx', index=False)\n",
    "        \n",
    "        # Appending each level dataframe to dataframe list\n",
    "        dataframeList.append(currentLevelDataFrame.fillna(''))\n",
    "        \n",
    "        print('Processed Level ' + str(currentLevelCounter) + ' data\\n')\n",
    "        \n",
    "        # Now current level's subordinates would become next level's supervisors\n",
    "        # Getting those employees' WWIDs and recursively calling the function\n",
    "        parseOrgData(list(currentLevelDataFrame['WWID'].drop_duplicates()))\n",
    "\n",
    "parseOrgData([ceoWWID])"
   ]
  },
  {
   "cell_type": "code",
   "execution_count": 5,
   "metadata": {},
   "outputs": [],
   "source": [
    "################################################################################################################################\n",
    "######################################### PART II: Transforming Level Files Into JSON Data #####################################\n",
    "################################################################################################################################"
   ]
  },
  {
   "cell_type": "code",
   "execution_count": 6,
   "metadata": {},
   "outputs": [],
   "source": [
    "import os.path\n",
    "\n",
    "# Library to write out dictionary in JSON format\n",
    "import json\n",
    "\n",
    "# A library for some cool progress bars\n",
    "from tqdm import tqdm\n",
    "# Initialize Progress bar library\n",
    "tqdm.pandas()\n",
    "\n",
    "# For clearing output if needed\n",
    "from IPython.display import clear_output"
   ]
  },
  {
   "cell_type": "code",
   "execution_count": 7,
   "metadata": {},
   "outputs": [
    {
     "name": "stderr",
     "output_type": "stream",
     "text": [
      "100%|████████████████████████████████████████████████████████████████████████████████████| 9/9 [00:25<00:00,  2.86s/it]\n"
     ]
    }
   ],
   "source": [
    "# Create an empty list which will hold dictionaries for every level\n",
    "dictionaryList = []\n",
    "\n",
    "# Iterate over every DataFrame present in `dataframeList`\n",
    "for dataframeIndex, dataframe in enumerate(tqdm(dataframeList)):\n",
    "    # Initialize an empty dictionary for the level which is being iterated upon\n",
    "    levelDictionary = dict()\n",
    "    # Iterate over every employee record in each DataFrame\n",
    "    for employeeIndex, employee in dataframe.iterrows():\n",
    "        # Initialize an empty list which will hold the required attributes corresponding to every employee we iterate upon\n",
    "        record = []\n",
    "        # Skipping `Supervisor ID` attribute for level 0 employee which is the CEO himself\n",
    "        if dataframeIndex != 0:\n",
    "            record += ['supervisorWWID^' + str(employee['Supervisor WWID'])]\n",
    "        # Appending required attributes to `record` list after type conversion to string format\n",
    "        record += ['name^' + str(employee['Employee Name'])]\n",
    "        record += ['wwid^' + str(employee['WWID'])]\n",
    "        record += ['companyName^' + str(employee['Company Name'])]\n",
    "        record += ['businessTelephone^' + str(employee['Business Telephone'])]\n",
    "        record += ['emailAddress^' + str(employee['Email Address'])]\n",
    "        record += ['title^' + str(employee['Title'])]\n",
    "        record += ['businessAddress^' + str(employee['Business Address'])]\n",
    "        record += ['department^' + str(employee['Department'])]\n",
    "        record += ['partnerCompanyName^' + str(employee['Partner Company Name'])]\n",
    "        # Append record to level dictionary\n",
    "        levelDictionary.update({employeeIndex:dict(item.split(\"^\",1) for item in record)})\n",
    "    # When all records are processed on a level, append level dictionary to master dictionary list initialized above\n",
    "    dictionaryList.append(levelDictionary)"
   ]
  },
  {
   "cell_type": "code",
   "execution_count": 8,
   "metadata": {},
   "outputs": [
    {
     "name": "stderr",
     "output_type": "stream",
     "text": [
      "100%|████████████████████████████████████████████████████████████████████████████████████| 8/8 [13:18<00:00, 99.80s/it]\n"
     ]
    }
   ],
   "source": [
    "# Initialize `children` key\n",
    "# This is needed as d3.js code requires org tree data in such format\n",
    "key = 'children'\n",
    "\n",
    "# Iterate over every level of `dictionaryList` populated above\n",
    "# Starting from the lowest level, i.e., level 5 or 6\n",
    "for dictionaryCounter in tqdm(range (len(dictionaryList)-1, 0, -1)):\n",
    "    # Iterate over every subordinate employee record on a level\n",
    "    for subordinateKey, subordinateValue in dictionaryList[dictionaryCounter].items():\n",
    "        # Iterate over every superior employee who sits on one level above subordinates\n",
    "        for superiorKey, superiorValue in dictionaryList[dictionaryCounter - 1].items():\n",
    "            # Match `Subordinate's SUPERVISOR ID` with `Superior's ID`\n",
    "            if subordinateValue['supervisorWWID'] == superiorValue['wwid']:\n",
    "                # In case of positive match, append subordinate's data as superior's 'children' attribute\n",
    "                dictionaryList[dictionaryCounter - 1][superiorKey].setdefault(key, [])\n",
    "                dictionaryList[dictionaryCounter - 1][superiorKey][key].append(dictionaryList[dictionaryCounter][subordinateKey])"
   ]
  },
  {
   "cell_type": "code",
   "execution_count": 9,
   "metadata": {},
   "outputs": [],
   "source": [
    "# Write out created dictionary to json file\n",
    "jsonFile = open(\"J&J Org Chart Data.json\", \"w\")\n",
    "# Reason why index is given to be 0,0 is because upon backtracking from the lowest level\n",
    "# and appending data to higher levels finally results in all org data to be appended as CEO's children \n",
    "# who sits at level 0, in a hierarchial fashion\n",
    "jsonFile.write(json.dumps(dictionaryList[0][0]))\n",
    "jsonFile.close()"
   ]
  },
  {
   "cell_type": "code",
   "execution_count": 10,
   "metadata": {},
   "outputs": [],
   "source": [
    "# Defining a function for injecting JSON \n",
    "def injectJSON(jsonData, levelCount):\n",
    "    \n",
    "    # Specifying raw HTML code path\n",
    "    htmlCodeFilePath = 'Org Tree Raw HTML Code.txt'\n",
    "    # Specifying HTML Page's preferred title (optional)\n",
    "    htmlPageTitle = 'J&J Org Tree (Aug 2021, C-7 Levels)'\n",
    "    \n",
    "    # Checking if raw HTML file exists, if it does, read it, line by line\n",
    "    if os.path.isfile(htmlCodeFilePath):\n",
    "        with open(htmlCodeFilePath, \"r\") as htmlCodeFile:\n",
    "            htmlCode = \"\".join(htmlCodeFile.readlines()[1:])\n",
    "            \n",
    "        # Inject Web Page Title\n",
    "        htmlCode = htmlCode.replace('<Title></Title>', '<Title>' + htmlPageTitle + '</Title>')\n",
    "        # Inject JSON data \n",
    "        htmlCode = htmlCode.replace('root = [];', 'root = [' + jsonData + '];')\n",
    "        \n",
    "        # Write injected data out to HTML file\n",
    "        with open(htmlPageTitle + \".html\", \"w\") as text_file:\n",
    "            text_file.write(htmlCode)\n",
    "        \n",
    "        return 'JSON successfully injected in HTML Code and saved!!!'\n",
    "    else:\n",
    "        return 'Raw HTML code not found!!!'"
   ]
  },
  {
   "cell_type": "code",
   "execution_count": 11,
   "metadata": {},
   "outputs": [
    {
     "data": {
      "text/plain": [
       "'JSON successfully injected in HTML Code and saved!!!'"
      ]
     },
     "execution_count": 11,
     "metadata": {},
     "output_type": "execute_result"
    }
   ],
   "source": [
    "# Call JSON injector function with JSON data and number of levels as arguments\n",
    "injectJSON(json.dumps(dictionaryList[0][0]), str(currentLevelCounter-1))"
   ]
  },
  {
   "cell_type": "code",
   "execution_count": null,
   "metadata": {},
   "outputs": [],
   "source": []
  }
 ],
 "metadata": {
  "kernelspec": {
   "display_name": "Python 3",
   "language": "python",
   "name": "python3"
  },
  "language_info": {
   "codemirror_mode": {
    "name": "ipython",
    "version": 3
   },
   "file_extension": ".py",
   "mimetype": "text/x-python",
   "name": "python",
   "nbconvert_exporter": "python",
   "pygments_lexer": "ipython3",
   "version": "3.7.1"
  }
 },
 "nbformat": 4,
 "nbformat_minor": 2
}
